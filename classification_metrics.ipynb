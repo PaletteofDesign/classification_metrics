{
  "nbformat": 4,
  "nbformat_minor": 0,
  "metadata": {
    "colab": {
      "name": "classification_metrics.ipynb",
      "provenance": [],
      "collapsed_sections": [],
      "authorship_tag": "ABX9TyMKUqGQsPgYXPW7g1XVfeCX",
      "include_colab_link": true
    },
    "kernelspec": {
      "name": "python3",
      "display_name": "Python 3"
    },
    "language_info": {
      "name": "python"
    }
  },
  "cells": [
    {
      "cell_type": "markdown",
      "metadata": {
        "id": "view-in-github",
        "colab_type": "text"
      },
      "source": [
        "<a href=\"https://colab.research.google.com/github/PaletteofDesign/classification_metrics/blob/main/classification_metrics.ipynb\" target=\"_parent\"><img src=\"https://colab.research.google.com/assets/colab-badge.svg\" alt=\"Open In Colab\"/></a>"
      ]
    },
    {
      "cell_type": "markdown",
      "metadata": {
        "id": "hUx6KkWBX4dK"
      },
      "source": [
        "##Task\n",
        "\n",
        "We will use this dataset. The data, which was modified from this source, has information about direct marketing campaigns of a Portuguese banking institution. The marketing campaigns were based on phone calls. The goal is to predict if the client will subscribe (yes: 1 or no: 0) to a term deposit (the target column is called 'y_yes' in this csv).\n",
        "\n",
        " Your task is to build a logistic regression model to predict whether or not a client will subscribe. Tune the hyperparameters to get the best model possible. Then, calculate the following classification metrics:\n",
        "\n",
        "Metrics to calculate:\n",
        "\n",
        "    Accuracy\n",
        "    Sensitivity\n",
        "    Specificity\n",
        "    AUC ROC\n",
        "    Additionally, plot the ROC.\n",
        "\n",
        "Questions to think about and answer\n",
        "\n",
        "After completing the task, answer the following questions:\n",
        "\n",
        "    Which metric is going to be best to evaluate your classification model for this dataset and why? Hint: think about what each metric means in this specific scenario. \n",
        "    What metric is going to help the bank the most?\n",
        "    Compare your model's accuracy with the baseline model. \n",
        "    Do you see any problems here?\n",
        "    What are other ways you could improve this model?"
      ]
    },
    {
      "cell_type": "code",
      "metadata": {
        "colab": {
          "base_uri": "https://localhost:8080/"
        },
        "id": "Tu7RBfY1VIz7",
        "outputId": "e894e758-f621-4a9f-e42c-83287657c78e"
      },
      "source": [
        "# mount data\n",
        "from google.colab import drive\n",
        "drive.mount('/content/drive')"
      ],
      "execution_count": 1,
      "outputs": [
        {
          "output_type": "stream",
          "name": "stdout",
          "text": [
            "Mounted at /content/drive\n"
          ]
        }
      ]
    },
    {
      "cell_type": "code",
      "metadata": {
        "id": "QF8iwriCWFba"
      },
      "source": [
        "# import libraries\n",
        "import matplotlib.pyplot as plt\n",
        "import seaborn as sns\n",
        "import pandas as pd\n",
        "import numpy as np\n",
        "from sklearn.model_selection import train_test_split\n",
        "from sklearn.preprocessing import StandardScaler\n",
        "from sklearn.linear_model import LogisticRegression\n",
        "from sklearn.ensemble import BaggingClassifier, RandomForestClassifier\n",
        "from sklearn.neighbors import KNeighborsClassifier\n",
        "from sklearn.multiclass import OneVsOneClassifier\n",
        "from sklearn.metrics import accuracy_score\n",
        "from sklearn.metrics import roc_auc_score, plot_roc_curve\n",
        "from sklearn.metrics import plot_confusion_matrix"
      ],
      "execution_count": 2,
      "outputs": []
    },
    {
      "cell_type": "code",
      "metadata": {
        "colab": {
          "base_uri": "https://localhost:8080/",
          "height": 244
        },
        "id": "j3g0LEKSV8YU",
        "outputId": "10d7e7dd-61a7-4b00-f5ae-996c32e54165"
      },
      "source": [
        "f = '/content/bank_modified.csv'\n",
        "df = pd.read_csv(f)\n",
        "df.head()"
      ],
      "execution_count": 3,
      "outputs": [
        {
          "output_type": "execute_result",
          "data": {
            "text/html": [
              "<div>\n",
              "<style scoped>\n",
              "    .dataframe tbody tr th:only-of-type {\n",
              "        vertical-align: middle;\n",
              "    }\n",
              "\n",
              "    .dataframe tbody tr th {\n",
              "        vertical-align: top;\n",
              "    }\n",
              "\n",
              "    .dataframe thead th {\n",
              "        text-align: right;\n",
              "    }\n",
              "</style>\n",
              "<table border=\"1\" class=\"dataframe\">\n",
              "  <thead>\n",
              "    <tr style=\"text-align: right;\">\n",
              "      <th></th>\n",
              "      <th>age</th>\n",
              "      <th>balance</th>\n",
              "      <th>duration</th>\n",
              "      <th>campaign</th>\n",
              "      <th>pdays</th>\n",
              "      <th>previous</th>\n",
              "      <th>job_blue-collar</th>\n",
              "      <th>job_entrepreneur</th>\n",
              "      <th>job_housemaid</th>\n",
              "      <th>job_management</th>\n",
              "      <th>job_retired</th>\n",
              "      <th>job_self-employed</th>\n",
              "      <th>job_services</th>\n",
              "      <th>job_student</th>\n",
              "      <th>job_technician</th>\n",
              "      <th>job_unemployed</th>\n",
              "      <th>job_unknown</th>\n",
              "      <th>marital_married</th>\n",
              "      <th>marital_single</th>\n",
              "      <th>education_secondary</th>\n",
              "      <th>education_tertiary</th>\n",
              "      <th>education_unknown</th>\n",
              "      <th>default_yes</th>\n",
              "      <th>housing_yes</th>\n",
              "      <th>loan_yes</th>\n",
              "      <th>y_yes</th>\n",
              "    </tr>\n",
              "  </thead>\n",
              "  <tbody>\n",
              "    <tr>\n",
              "      <th>0</th>\n",
              "      <td>30</td>\n",
              "      <td>1787</td>\n",
              "      <td>79</td>\n",
              "      <td>1</td>\n",
              "      <td>-1</td>\n",
              "      <td>0</td>\n",
              "      <td>0</td>\n",
              "      <td>0</td>\n",
              "      <td>0</td>\n",
              "      <td>0</td>\n",
              "      <td>0</td>\n",
              "      <td>0</td>\n",
              "      <td>0</td>\n",
              "      <td>0</td>\n",
              "      <td>0</td>\n",
              "      <td>1</td>\n",
              "      <td>0</td>\n",
              "      <td>1</td>\n",
              "      <td>0</td>\n",
              "      <td>0</td>\n",
              "      <td>0</td>\n",
              "      <td>0</td>\n",
              "      <td>0</td>\n",
              "      <td>0</td>\n",
              "      <td>0</td>\n",
              "      <td>0</td>\n",
              "    </tr>\n",
              "    <tr>\n",
              "      <th>1</th>\n",
              "      <td>33</td>\n",
              "      <td>4789</td>\n",
              "      <td>220</td>\n",
              "      <td>1</td>\n",
              "      <td>339</td>\n",
              "      <td>4</td>\n",
              "      <td>0</td>\n",
              "      <td>0</td>\n",
              "      <td>0</td>\n",
              "      <td>0</td>\n",
              "      <td>0</td>\n",
              "      <td>0</td>\n",
              "      <td>1</td>\n",
              "      <td>0</td>\n",
              "      <td>0</td>\n",
              "      <td>0</td>\n",
              "      <td>0</td>\n",
              "      <td>1</td>\n",
              "      <td>0</td>\n",
              "      <td>1</td>\n",
              "      <td>0</td>\n",
              "      <td>0</td>\n",
              "      <td>0</td>\n",
              "      <td>1</td>\n",
              "      <td>1</td>\n",
              "      <td>0</td>\n",
              "    </tr>\n",
              "    <tr>\n",
              "      <th>2</th>\n",
              "      <td>35</td>\n",
              "      <td>1350</td>\n",
              "      <td>185</td>\n",
              "      <td>1</td>\n",
              "      <td>330</td>\n",
              "      <td>1</td>\n",
              "      <td>0</td>\n",
              "      <td>0</td>\n",
              "      <td>0</td>\n",
              "      <td>1</td>\n",
              "      <td>0</td>\n",
              "      <td>0</td>\n",
              "      <td>0</td>\n",
              "      <td>0</td>\n",
              "      <td>0</td>\n",
              "      <td>0</td>\n",
              "      <td>0</td>\n",
              "      <td>0</td>\n",
              "      <td>1</td>\n",
              "      <td>0</td>\n",
              "      <td>1</td>\n",
              "      <td>0</td>\n",
              "      <td>0</td>\n",
              "      <td>1</td>\n",
              "      <td>0</td>\n",
              "      <td>0</td>\n",
              "    </tr>\n",
              "    <tr>\n",
              "      <th>3</th>\n",
              "      <td>30</td>\n",
              "      <td>1476</td>\n",
              "      <td>199</td>\n",
              "      <td>4</td>\n",
              "      <td>-1</td>\n",
              "      <td>0</td>\n",
              "      <td>0</td>\n",
              "      <td>0</td>\n",
              "      <td>0</td>\n",
              "      <td>1</td>\n",
              "      <td>0</td>\n",
              "      <td>0</td>\n",
              "      <td>0</td>\n",
              "      <td>0</td>\n",
              "      <td>0</td>\n",
              "      <td>0</td>\n",
              "      <td>0</td>\n",
              "      <td>1</td>\n",
              "      <td>0</td>\n",
              "      <td>0</td>\n",
              "      <td>1</td>\n",
              "      <td>0</td>\n",
              "      <td>0</td>\n",
              "      <td>1</td>\n",
              "      <td>1</td>\n",
              "      <td>0</td>\n",
              "    </tr>\n",
              "    <tr>\n",
              "      <th>4</th>\n",
              "      <td>59</td>\n",
              "      <td>0</td>\n",
              "      <td>226</td>\n",
              "      <td>1</td>\n",
              "      <td>-1</td>\n",
              "      <td>0</td>\n",
              "      <td>1</td>\n",
              "      <td>0</td>\n",
              "      <td>0</td>\n",
              "      <td>0</td>\n",
              "      <td>0</td>\n",
              "      <td>0</td>\n",
              "      <td>0</td>\n",
              "      <td>0</td>\n",
              "      <td>0</td>\n",
              "      <td>0</td>\n",
              "      <td>0</td>\n",
              "      <td>1</td>\n",
              "      <td>0</td>\n",
              "      <td>1</td>\n",
              "      <td>0</td>\n",
              "      <td>0</td>\n",
              "      <td>0</td>\n",
              "      <td>1</td>\n",
              "      <td>0</td>\n",
              "      <td>0</td>\n",
              "    </tr>\n",
              "  </tbody>\n",
              "</table>\n",
              "</div>"
            ],
            "text/plain": [
              "   age  balance  duration  campaign  ...  default_yes  housing_yes  loan_yes  y_yes\n",
              "0   30     1787        79         1  ...            0            0         0      0\n",
              "1   33     4789       220         1  ...            0            1         1      0\n",
              "2   35     1350       185         1  ...            0            1         0      0\n",
              "3   30     1476       199         4  ...            0            1         1      0\n",
              "4   59        0       226         1  ...            0            1         0      0\n",
              "\n",
              "[5 rows x 26 columns]"
            ]
          },
          "metadata": {},
          "execution_count": 3
        }
      ]
    },
    {
      "cell_type": "code",
      "metadata": {
        "colab": {
          "base_uri": "https://localhost:8080/"
        },
        "id": "oZgXlTHIWZuO",
        "outputId": "88e28b81-3655-460d-808e-d9fa9cc7af77"
      },
      "source": [
        "df.info()"
      ],
      "execution_count": 4,
      "outputs": [
        {
          "output_type": "stream",
          "name": "stdout",
          "text": [
            "<class 'pandas.core.frame.DataFrame'>\n",
            "RangeIndex: 4521 entries, 0 to 4520\n",
            "Data columns (total 26 columns):\n",
            " #   Column               Non-Null Count  Dtype\n",
            "---  ------               --------------  -----\n",
            " 0   age                  4521 non-null   int64\n",
            " 1   balance              4521 non-null   int64\n",
            " 2   duration             4521 non-null   int64\n",
            " 3   campaign             4521 non-null   int64\n",
            " 4   pdays                4521 non-null   int64\n",
            " 5   previous             4521 non-null   int64\n",
            " 6   job_blue-collar      4521 non-null   int64\n",
            " 7   job_entrepreneur     4521 non-null   int64\n",
            " 8   job_housemaid        4521 non-null   int64\n",
            " 9   job_management       4521 non-null   int64\n",
            " 10  job_retired          4521 non-null   int64\n",
            " 11  job_self-employed    4521 non-null   int64\n",
            " 12  job_services         4521 non-null   int64\n",
            " 13  job_student          4521 non-null   int64\n",
            " 14  job_technician       4521 non-null   int64\n",
            " 15  job_unemployed       4521 non-null   int64\n",
            " 16  job_unknown          4521 non-null   int64\n",
            " 17  marital_married      4521 non-null   int64\n",
            " 18  marital_single       4521 non-null   int64\n",
            " 19  education_secondary  4521 non-null   int64\n",
            " 20  education_tertiary   4521 non-null   int64\n",
            " 21  education_unknown    4521 non-null   int64\n",
            " 22  default_yes          4521 non-null   int64\n",
            " 23  housing_yes          4521 non-null   int64\n",
            " 24  loan_yes             4521 non-null   int64\n",
            " 25  y_yes                4521 non-null   int64\n",
            "dtypes: int64(26)\n",
            "memory usage: 918.5 KB\n"
          ]
        }
      ]
    },
    {
      "cell_type": "code",
      "metadata": {
        "colab": {
          "base_uri": "https://localhost:8080/"
        },
        "id": "pTskMZRsWl1s",
        "outputId": "c83e7dad-d132-4ec3-b214-0cdc40e03569"
      },
      "source": [
        "df.nunique()"
      ],
      "execution_count": 5,
      "outputs": [
        {
          "output_type": "execute_result",
          "data": {
            "text/plain": [
              "age                      67\n",
              "balance                2353\n",
              "duration                875\n",
              "campaign                 32\n",
              "pdays                   292\n",
              "previous                 24\n",
              "job_blue-collar           2\n",
              "job_entrepreneur          2\n",
              "job_housemaid             2\n",
              "job_management            2\n",
              "job_retired               2\n",
              "job_self-employed         2\n",
              "job_services              2\n",
              "job_student               2\n",
              "job_technician            2\n",
              "job_unemployed            2\n",
              "job_unknown               2\n",
              "marital_married           2\n",
              "marital_single            2\n",
              "education_secondary       2\n",
              "education_tertiary        2\n",
              "education_unknown         2\n",
              "default_yes               2\n",
              "housing_yes               2\n",
              "loan_yes                  2\n",
              "y_yes                     2\n",
              "dtype: int64"
            ]
          },
          "metadata": {},
          "execution_count": 5
        }
      ]
    },
    {
      "cell_type": "code",
      "metadata": {
        "colab": {
          "base_uri": "https://localhost:8080/"
        },
        "id": "TgD4lyzXWr9E",
        "outputId": "761ceb7b-f288-4f8b-c3a6-19de11d7bf26"
      },
      "source": [
        "df['y_yes'].value_counts(normalize=True)"
      ],
      "execution_count": 6,
      "outputs": [
        {
          "output_type": "execute_result",
          "data": {
            "text/plain": [
              "0    0.88476\n",
              "1    0.11524\n",
              "Name: y_yes, dtype: float64"
            ]
          },
          "metadata": {},
          "execution_count": 6
        }
      ]
    },
    {
      "cell_type": "code",
      "metadata": {
        "colab": {
          "base_uri": "https://localhost:8080/"
        },
        "id": "FMh4jlOLcbJo",
        "outputId": "b29d7f3b-4d09-4cf2-9186-b665b48e5616"
      },
      "source": [
        "X = df.drop(columns='y_yes')\n",
        "y = df['y_yes']\n",
        "print(X.shape)\n",
        "print(y.shape)"
      ],
      "execution_count": 7,
      "outputs": [
        {
          "output_type": "stream",
          "name": "stdout",
          "text": [
            "(4521, 25)\n",
            "(4521,)\n"
          ]
        }
      ]
    },
    {
      "cell_type": "code",
      "metadata": {
        "id": "WOC1OFgGgPrD"
      },
      "source": [
        "X_train, X_test, y_train, y_test = train_test_split(X, y, test_size=0.3, random_state=42, stratify=y)"
      ],
      "execution_count": 8,
      "outputs": []
    },
    {
      "cell_type": "code",
      "metadata": {
        "colab": {
          "base_uri": "https://localhost:8080/"
        },
        "id": "iN2VKK9mjR-d",
        "outputId": "6c3f71da-963d-492c-cea4-dbe5b0d2b5c9"
      },
      "source": [
        "unique, count = np.unique(y_train, return_counts=True)\n",
        "dict(zip(unique, count))"
      ],
      "execution_count": 9,
      "outputs": [
        {
          "output_type": "execute_result",
          "data": {
            "text/plain": [
              "{0: 2799, 1: 365}"
            ]
          },
          "metadata": {},
          "execution_count": 9
        }
      ]
    },
    {
      "cell_type": "code",
      "metadata": {
        "colab": {
          "base_uri": "https://localhost:8080/"
        },
        "id": "vozrqrSwpeBu",
        "outputId": "c971b600-2013-46b7-ef5e-f99ce783149c"
      },
      "source": [
        "unique, count = np.unique(y_test, return_counts=True)\n",
        "dict(zip(unique, count))"
      ],
      "execution_count": 10,
      "outputs": [
        {
          "output_type": "execute_result",
          "data": {
            "text/plain": [
              "{0: 1201, 1: 156}"
            ]
          },
          "metadata": {},
          "execution_count": 10
        }
      ]
    },
    {
      "cell_type": "code",
      "metadata": {
        "id": "ER6p-XASjj0a"
      },
      "source": [
        "scaler = StandardScaler()"
      ],
      "execution_count": 11,
      "outputs": []
    },
    {
      "cell_type": "code",
      "metadata": {
        "colab": {
          "base_uri": "https://localhost:8080/"
        },
        "id": "56jTFFqKj6aR",
        "outputId": "86f4ef91-c216-48cd-b718-90ef23fbdf58"
      },
      "source": [
        "scaler.fit(X_train)"
      ],
      "execution_count": 12,
      "outputs": [
        {
          "output_type": "execute_result",
          "data": {
            "text/plain": [
              "StandardScaler(copy=True, with_mean=True, with_std=True)"
            ]
          },
          "metadata": {},
          "execution_count": 12
        }
      ]
    },
    {
      "cell_type": "code",
      "metadata": {
        "id": "h8FiakEzkA9a"
      },
      "source": [
        "X_train = scaler.transform(X_train)\n",
        "X_test = scaler.transform(X_test)"
      ],
      "execution_count": 13,
      "outputs": []
    },
    {
      "cell_type": "code",
      "metadata": {
        "colab": {
          "base_uri": "https://localhost:8080/"
        },
        "id": "ky4ft-PN0ked",
        "outputId": "74c4d595-c375-421f-9c7b-7386f8412496"
      },
      "source": [
        "# baseline\n",
        "y_train.value_counts(normalize=True)"
      ],
      "execution_count": 14,
      "outputs": [
        {
          "output_type": "execute_result",
          "data": {
            "text/plain": [
              "0    0.88464\n",
              "1    0.11536\n",
              "Name: y_yes, dtype: float64"
            ]
          },
          "metadata": {},
          "execution_count": 14
        }
      ]
    },
    {
      "cell_type": "code",
      "metadata": {
        "colab": {
          "base_uri": "https://localhost:8080/"
        },
        "id": "uIYwThrmkRZ_",
        "outputId": "a3e488f5-de0a-432f-b713-10c95d5e5d53"
      },
      "source": [
        "log_reg = LogisticRegression(penalty='l1', solver='liblinear', C=1.0)\n",
        "ovo = OneVsOneClassifier(log_reg)\n",
        "ovo.fit(X_train, y_train)"
      ],
      "execution_count": 34,
      "outputs": [
        {
          "output_type": "execute_result",
          "data": {
            "text/plain": [
              "OneVsOneClassifier(estimator=LogisticRegression(C=1.0, class_weight=None,\n",
              "                                                dual=False, fit_intercept=True,\n",
              "                                                intercept_scaling=1,\n",
              "                                                l1_ratio=None, max_iter=100,\n",
              "                                                multi_class='auto', n_jobs=None,\n",
              "                                                penalty='l1', random_state=None,\n",
              "                                                solver='liblinear', tol=0.0001,\n",
              "                                                verbose=0, warm_start=False),\n",
              "                   n_jobs=None)"
            ]
          },
          "metadata": {},
          "execution_count": 34
        }
      ]
    },
    {
      "cell_type": "markdown",
      "metadata": {
        "id": "9_H564CmrMWt"
      },
      "source": [
        "##AUC ROC"
      ]
    },
    {
      "cell_type": "code",
      "metadata": {
        "colab": {
          "base_uri": "https://localhost:8080/",
          "height": 279
        },
        "id": "xDMnrmyPlJjF",
        "outputId": "24445b85-a6cc-42a2-a1af-02bd92334fe9"
      },
      "source": [
        "plot_roc_curve(ovo, X_train, y_train)\n",
        "plt.plot([0, 1], [0,1], ls = '--', label = 'Baseline (AUC = 0.5)')\n",
        "plt.legend();"
      ],
      "execution_count": 35,
      "outputs": [
        {
          "output_type": "display_data",
          "data": {
            "image/png": "[encoded data removed]",
            "text/plain": [
              "<Figure size 432x288 with 1 Axes>"
            ]
          },
          "metadata": {
            "needs_background": "light"
          }
        }
      ]
    },
    {
      "cell_type": "markdown",
      "metadata": {
        "id": "_mMfAX-tmZ28"
      },
      "source": [
        "##Accuracy"
      ]
    },
    {
      "cell_type": "code",
      "metadata": {
        "colab": {
          "base_uri": "https://localhost:8080/"
        },
        "id": "4LRizxBumfVP",
        "outputId": "eb07c296-6cd4-440e-ee5f-25328920a7ca"
      },
      "source": [
        "print('Training accuracy:', ovo.score(X_train, y_train))\n",
        "print('Test accuracy:', ovo.score(X_test, y_test))"
      ],
      "execution_count": 36,
      "outputs": [
        {
          "output_type": "stream",
          "name": "stdout",
          "text": [
            "Training accuracy: 0.8919089759797725\n",
            "Test accuracy: 0.8894620486366986\n"
          ]
        }
      ]
    },
    {
      "cell_type": "markdown",
      "metadata": {
        "id": "PUJOkCS3mlyW"
      },
      "source": [
        "##Sensitivity"
      ]
    },
    {
      "cell_type": "code",
      "metadata": {
        "colab": {
          "base_uri": "https://localhost:8080/",
          "height": 279
        },
        "id": "XQtYOsQtmnkR",
        "outputId": "1b4127c8-5af4-4194-8289-bab05ac99495"
      },
      "source": [
        "plot_confusion_matrix(ovo, X, y, cmap = 'Blues', values_format='.5g');"
      ],
      "execution_count": 37,
      "outputs": [
        {
          "output_type": "display_data",
          "data": {
            "image/png": "[encoded data removed]",
            "text/plain": [
              "<Figure size 432x288 with 2 Axes>"
            ]
          },
          "metadata": {
            "needs_background": "light"
          }
        }
      ]
    },
    {
      "cell_type": "code",
      "metadata": {
        "colab": {
          "base_uri": "https://localhost:8080/"
        },
        "id": "uRTbEmPfptaG",
        "outputId": "824cb919-6abf-40db-8657-f98f96f682ee"
      },
      "source": [
        "sensitivity = 5/(5+3995)\n",
        "print(f'Sensitivity: {sensitivity}')"
      ],
      "execution_count": 38,
      "outputs": [
        {
          "output_type": "stream",
          "name": "stdout",
          "text": [
            "Sensitivity: 0.00125\n"
          ]
        }
      ]
    },
    {
      "cell_type": "markdown",
      "metadata": {
        "id": "EtcNE3C6rStK"
      },
      "source": [
        "## Specificity"
      ]
    },
    {
      "cell_type": "code",
      "metadata": {
        "colab": {
          "base_uri": "https://localhost:8080/"
        },
        "id": "AjwIhB_CqedT",
        "outputId": "154212cb-7446-4bf5-b144-eafa6f372523"
      },
      "source": [
        "specificity = 521/(521+0)\n",
        "print(f'Specificity: {specificity}')"
      ],
      "execution_count": 39,
      "outputs": [
        {
          "output_type": "stream",
          "name": "stdout",
          "text": [
            "Specificity: 1.0\n"
          ]
        }
      ]
    },
    {
      "cell_type": "markdown",
      "metadata": {
        "id": "CiuZ3FMCu8WI"
      },
      "source": [
        "# Which metric is going to be best to evaluate your classification model for this dataset and why?\n",
        "\n",
        "For this model I would choose the specificy. This is because it will provide the data needed to determine the amount of clients who did not subscribe with more accuracy. "
      ]
    },
    {
      "cell_type": "markdown",
      "metadata": {
        "id": "EHPjVWNgvgQI"
      },
      "source": [
        "# What metric is going to help the bank the most?\n",
        "\n",
        "Specificity"
      ]
    },
    {
      "cell_type": "markdown",
      "metadata": {
        "id": "gHenmeChvrja"
      },
      "source": [
        "## Compare your model's accuracy with the baseline model.\n",
        "\n",
        "Baseline accuracy: \n",
        "\n",
        "  0    0.88464\n",
        "\n",
        "  1    0.11536\n",
        "\n",
        "Model accuracy: \n",
        "\n",
        "  Training: 0.8919089759797725\n",
        "\n",
        "  Test: 0.8894620486366986"
      ]
    },
    {
      "cell_type": "markdown",
      "metadata": {
        "id": "_4yME-j9vvsv"
      },
      "source": [
        "## Do you see any problems here?\n",
        "\n",
        "The data is very unbalanced. This can cause bias in the data."
      ]
    },
    {
      "cell_type": "markdown",
      "metadata": {
        "id": "QJyXnmx7vxZW"
      },
      "source": [
        "## What are other ways you could improve this model?\n",
        "\n",
        "Gathering more data to help balance between yes and no. Use a random forest which is less influenced by unbalanced data."
      ]
    }
  ]
}